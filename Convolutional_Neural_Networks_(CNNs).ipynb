{
  "nbformat": 4,
  "nbformat_minor": 0,
  "metadata": {
    "colab": {
      "name": "Convolutional Neural Networks (CNNs).ipynb",
      "provenance": []
    },
    "kernelspec": {
      "name": "python3",
      "display_name": "Python 3"
    },
    "language_info": {
      "name": "python"
    },
    "accelerator": "GPU"
  },
  "cells": [
    {
      "cell_type": "markdown",
      "source": [
        "#Section 3: Convolutional Neural Networks (CNNs)\n"
      ],
      "metadata": {
        "id": "wsqK_L8dCDPE"
      }
    },
    {
      "cell_type": "code",
      "source": [
        "'''first, let's import libraries '''\n",
        "\n",
        "import numpy as np\n",
        "import matplotlib.pyplot as plt\n",
        "\n",
        "from tensorflow.python.keras import Sequential\n",
        "from tensorflow.python.keras.layers import Dense, Conv2D, MaxPooling2D, Flatten, Conv2DTranspose"
      ],
      "metadata": {
        "id": "JYpGhsEDCDdz"
      },
      "execution_count": 1,
      "outputs": []
    },
    {
      "cell_type": "markdown",
      "source": [
        "1) Our first CNN (Classification Problem) - Hand Written Digit Recognition\n"
      ],
      "metadata": {
        "id": "muDVnqehCP9V"
      }
    },
    {
      "cell_type": "code",
      "source": [
        "from keras.datasets import mnist\n",
        "\n",
        "# data is already randomized and split in to training / test sets. So we can go ahead and use them as it is.\n",
        "(x_train, y_train), (x_test, y_test) = mnist.load_data()\n",
        "\n",
        "print(\"X_train shape\", x_train.shape)\n",
        "print(\"y_train shape\", y_train.shape)\n",
        "print(\"X_test shape\", x_test.shape)\n",
        "print(\"y_test shape\", y_test.shape)"
      ],
      "metadata": {
        "colab": {
          "base_uri": "https://localhost:8080/"
        },
        "id": "y-TJyKwACQUR",
        "outputId": "e2d01b0c-37e4-42e6-914c-7c35ba2c62b6"
      },
      "execution_count": 2,
      "outputs": [
        {
          "output_type": "stream",
          "name": "stdout",
          "text": [
            "Downloading data from https://storage.googleapis.com/tensorflow/tf-keras-datasets/mnist.npz\n",
            "11493376/11490434 [==============================] - 0s 0us/step\n",
            "11501568/11490434 [==============================] - 0s 0us/step\n",
            "X_train shape (60000, 28, 28)\n",
            "y_train shape (60000,)\n",
            "X_test shape (10000, 28, 28)\n",
            "y_test shape (10000,)\n"
          ]
        }
      ]
    },
    {
      "cell_type": "code",
      "source": [
        "# Let's plot a sample image and print corresponding output\n",
        "\n",
        "plt.imshow(x_train[15, :, :])\n",
        "plt.show()\n",
        "\n",
        "print('Corresponding Y value: ' + str(y_train[15]))\n"
      ],
      "metadata": {
        "colab": {
          "base_uri": "https://localhost:8080/",
          "height": 283
        },
        "id": "uSBi8LivCYKH",
        "outputId": "7b3a4e12-acf6-46fa-9dd8-c7f3e2e29205"
      },
      "execution_count": 3,
      "outputs": [
        {
          "output_type": "display_data",
          "data": {
            "image/png": "[encoded data removed]",
            "text/plain": [
              "<Figure size 432x288 with 1 Axes>"
            ]
          },
          "metadata": {
            "needs_background": "light"
          }
        },
        {
          "output_type": "stream",
          "name": "stdout",
          "text": [
            "Corresponding Y value: 7\n"
          ]
        }
      ]
    },
    {
      "cell_type": "code",
      "source": [
        "x_train = x_train.reshape(60000, 28, 28, 1)\n",
        "x_test = x_test.reshape(10000, 28, 28, 1)"
      ],
      "metadata": {
        "id": "s62RpDRcCjw_"
      },
      "execution_count": 4,
      "outputs": []
    },
    {
      "cell_type": "code",
      "source": [
        "# one-hot encoding\n",
        "\n",
        "from tensorflow.keras.utils import to_categorical\n",
        "\n",
        "y_train = to_categorical(y_train)\n",
        "y_test = to_categorical(y_test)"
      ],
      "metadata": {
        "id": "aPPND3AhCnDV"
      },
      "execution_count": 5,
      "outputs": []
    },
    {
      "cell_type": "code",
      "source": [
        "# And let's print new sizes of input and output variables\n",
        "\n",
        "print(\"X_train shape\", x_train.shape)\n",
        "print(\"y_train shape\", y_train.shape)\n",
        "print(\"X_test shape\", x_test.shape)\n",
        "print(\"y_test shape\", y_test.shape)"
      ],
      "metadata": {
        "colab": {
          "base_uri": "https://localhost:8080/"
        },
        "id": "loWSAZ3PC2Fr",
        "outputId": "5abf3e03-a860-41ff-f455-74d1a00a8816"
      },
      "execution_count": 6,
      "outputs": [
        {
          "output_type": "stream",
          "name": "stdout",
          "text": [
            "X_train shape (60000, 28, 28, 1)\n",
            "y_train shape (60000, 10)\n",
            "X_test shape (10000, 28, 28, 1)\n",
            "y_test shape (10000, 10)\n"
          ]
        }
      ]
    },
    {
      "cell_type": "code",
      "source": [
        "model = Sequential()\n",
        "\n",
        "model.add(Conv2D(32, kernel_size=3, activation='relu', input_shape=(28,28,1))) # 32 convolution filters\n",
        "model.add(MaxPooling2D(pool_size=(2, 2))) # reducing width and height by 1/2 with max pooling\n",
        "model.add(Conv2D(64, kernel_size=3, activation='relu')) # 64 convolution filters\n",
        "model.add(MaxPooling2D(pool_size=(2, 2))) # reducing width and height by 1/2 with max pooling\n",
        "model.add(Conv2D(64, kernel_size=3, activation='relu')) # 64 convolution filters\n",
        "\n",
        "model.add(Flatten())\n",
        "model.add(Dense(10, activation='softmax')) # 10 units corresponding to 10 classes of digits\n",
        "\n",
        "# since this is a classification problem, cross-entropy is better as a loss.\n",
        "model.compile(optimizer='adam', loss='categorical_crossentropy') \n",
        "\n",
        "# this will print details of the model\n",
        "model.summary()"
      ],
      "metadata": {
        "colab": {
          "base_uri": "https://localhost:8080/"
        },
        "id": "P8aIDptPC3RD",
        "outputId": "442d4870-894e-4d4e-8c48-6f91b474c0b9"
      },
      "execution_count": 7,
      "outputs": [
        {
          "output_type": "stream",
          "name": "stdout",
          "text": [
            "Model: \"sequential\"\n",
            "_________________________________________________________________\n",
            "Layer (type)                 Output Shape              Param #   \n",
            "=================================================================\n",
            "conv2d (Conv2D)              (None, 26, 26, 32)        320       \n",
            "_________________________________________________________________\n",
            "max_pooling2d (MaxPooling2D) (None, 13, 13, 32)        0         \n",
            "_________________________________________________________________\n",
            "conv2d_1 (Conv2D)            (None, 11, 11, 64)        18496     \n",
            "_________________________________________________________________\n",
            "max_pooling2d_1 (MaxPooling2 (None, 5, 5, 64)          0         \n",
            "_________________________________________________________________\n",
            "conv2d_2 (Conv2D)            (None, 3, 3, 64)          36928     \n",
            "_________________________________________________________________\n",
            "flatten (Flatten)            (None, 576)               0         \n",
            "_________________________________________________________________\n",
            "dense (Dense)                (None, 10)                5770      \n",
            "=================================================================\n",
            "Total params: 61,514\n",
            "Trainable params: 61,514\n",
            "Non-trainable params: 0\n",
            "_________________________________________________________________\n"
          ]
        }
      ]
    },
    {
      "cell_type": "code",
      "source": [
        "history = model.fit(x_train, y_train, validation_data=(x_test, y_test), epochs=100, batch_size=1000, verbose=0)\n"
      ],
      "metadata": {
        "id": "eEnEFyzkC-ao"
      },
      "execution_count": 8,
      "outputs": []
    },
    {
      "cell_type": "markdown",
      "source": [
        "#Train and Text Validation "
      ],
      "metadata": {
        "id": "78CzpCHiDxqU"
      }
    },
    {
      "cell_type": "code",
      "source": [
        "plt.plot(history.history['loss'])\n",
        "plt.plot(history.history['val_loss'])\n",
        "plt.title('Model Loss')\n",
        "plt.ylabel('Loss')\n",
        "plt.xlabel('Epoch')\n",
        "plt.legend(['Train', 'Test'], loc='upper left')\n",
        "plt.show()"
      ],
      "metadata": {
        "colab": {
          "base_uri": "https://localhost:8080/",
          "height": 295
        },
        "id": "0Ch7L3koDwq8",
        "outputId": "a2144bb0-71a3-47f2-9240-d7eb40516427"
      },
      "execution_count": 9,
      "outputs": [
        {
          "output_type": "display_data",
          "data": {
            "image/png": "[encoded data removed]",
            "text/plain": [
              "<Figure size 432x288 with 1 Axes>"
            ]
          },
          "metadata": {
            "needs_background": "light"
          }
        }
      ]
    },
    {
      "cell_type": "code",
      "source": [
        "'''Prediction over the test dataset'''\n",
        "pred_test = model.predict(x_test)\n",
        "\n",
        "#let's compare random predicted and actual y values \n",
        "print('Predicted: '+str(np.round(pred_test[15]))+', Actual: '+str(y_test[15]))"
      ],
      "metadata": {
        "colab": {
          "base_uri": "https://localhost:8080/"
        },
        "id": "FnIeEC41D3wn",
        "outputId": "9c7cab8e-d239-4d28-909e-4fcbabbec5e8"
      },
      "execution_count": 11,
      "outputs": [
        {
          "output_type": "stream",
          "name": "stdout",
          "text": [
            "Predicted: [0. 0. 0. 0. 0. 1. 0. 0. 0. 0.], Actual: [0. 0. 0. 0. 0. 1. 0. 0. 0. 0.]\n"
          ]
        }
      ]
    }
  ]
}